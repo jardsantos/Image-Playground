{
  "nbformat": 4,
  "nbformat_minor": 0,
  "metadata": {
    "colab": {
      "name": "Fábio Capuano de Souza - fullyconvMNIST-NMS.ipynb",
      "version": "0.3.2",
      "provenance": []
    },
    "kernelspec": {
      "name": "python3",
      "display_name": "Python 3"
    },
    "accelerator": "GPU"
  },
  "cells": [
    {
      "metadata": {
        "colab_type": "text",
        "id": "1aXVR29SPZqw"
      },
      "cell_type": "markdown",
      "source": [
        "# Redes totalmente convolucionais"
      ]
    },
    {
      "metadata": {
        "colab_type": "text",
        "id": "Pm_TDUq-PZqy"
      },
      "cell_type": "markdown",
      "source": [
        "Este notebook aborda os seguintes aspectos relacionados às redes totalmente convolucionais:\n",
        "\n",
        "- como transformar uma camada densa em convolucional, aproveitando seus pesos;\n",
        "- como criar, a partir de uma rede pré-treinada para classificar imagens, uma rede totalmente convolucional;\n",
        "- demonstrar que uma rede totalmente convolucional, quando aplicada em imagens maiores que aquelas usadas em seu treinamento, implementa uma varredura implícita com ganhos de eficiência.\n",
        "- apresentar um método de supressão de não máximo para detectar caracteres"
      ]
    },
    {
      "metadata": {
        "colab_type": "text",
        "id": "Y_EzemfhPZq3"
      },
      "cell_type": "markdown",
      "source": [
        "## Importando os módulos"
      ]
    },
    {
      "metadata": {
        "colab": {
          "base_uri": "https://localhost:8080/",
          "height": 462
        },
        "colab_type": "code",
        "id": "2_Iiv1o4Vuo6",
        "outputId": "dcf23e56-0d2d-449c-c6d7-efc866f45716"
      },
      "cell_type": "code",
      "source": [
        "!pip install matplotlib torch torchvision shapely[vectorized]"
      ],
      "execution_count": 1,
      "outputs": [
        {
          "output_type": "stream",
          "text": [
            "Requirement already satisfied: matplotlib in /usr/local/lib/python3.6/dist-packages (2.1.2)\n",
            "Collecting torch\n",
            "\u001b[?25l  Downloading https://files.pythonhosted.org/packages/49/0e/e382bcf1a6ae8225f50b99cc26effa2d4cc6d66975ccf3fa9590efcbedce/torch-0.4.1-cp36-cp36m-manylinux1_x86_64.whl (519.5MB)\n",
            "\u001b[K    100% |████████████████████████████████| 519.5MB 27kB/s \n",
            "tcmalloc: large alloc 1073750016 bytes == 0x585a0000 @  0x7f477c64f2a4 0x594e17 0x626104 0x51190a 0x4f5277 0x510c78 0x5119bd 0x4f5277 0x4f3338 0x510fb0 0x5119bd 0x4f5277 0x4f3338 0x510fb0 0x5119bd 0x4f5277 0x4f3338 0x510fb0 0x5119bd 0x4f6070 0x510c78 0x5119bd 0x4f5277 0x4f3338 0x510fb0 0x5119bd 0x4f6070 0x4f3338 0x510fb0 0x5119bd 0x4f6070\n",
            "\u001b[?25hCollecting torchvision\n",
            "\u001b[?25l  Downloading https://files.pythonhosted.org/packages/ca/0d/f00b2885711e08bd71242ebe7b96561e6f6d01fdb4b9dcf4d37e2e13c5e1/torchvision-0.2.1-py2.py3-none-any.whl (54kB)\n",
            "\u001b[K    100% |████████████████████████████████| 61kB 20.8MB/s \n",
            "\u001b[?25hCollecting shapely[vectorized]\n",
            "\u001b[?25l  Downloading https://files.pythonhosted.org/packages/38/b6/b53f19062afd49bb5abd049aeed36f13bf8d57ef8f3fa07a5203531a0252/Shapely-1.6.4.post2-cp36-cp36m-manylinux1_x86_64.whl (1.5MB)\n",
            "\u001b[K    100% |████████████████████████████████| 1.5MB 6.0MB/s \n",
            "\u001b[?25hRequirement already satisfied: six>=1.10 in /usr/local/lib/python3.6/dist-packages (from matplotlib) (1.11.0)\n",
            "Requirement already satisfied: pyparsing!=2.0.4,!=2.1.2,!=2.1.6,>=2.0.1 in /usr/local/lib/python3.6/dist-packages (from matplotlib) (2.2.2)\n",
            "Requirement already satisfied: pytz in /usr/local/lib/python3.6/dist-packages (from matplotlib) (2018.5)\n",
            "Requirement already satisfied: python-dateutil>=2.1 in /usr/local/lib/python3.6/dist-packages (from matplotlib) (2.5.3)\n",
            "Requirement already satisfied: cycler>=0.10 in /usr/local/lib/python3.6/dist-packages (from matplotlib) (0.10.0)\n",
            "Requirement already satisfied: numpy>=1.7.1 in /usr/local/lib/python3.6/dist-packages (from matplotlib) (1.14.6)\n",
            "Collecting pillow>=4.1.1 (from torchvision)\n",
            "\u001b[?25l  Downloading https://files.pythonhosted.org/packages/62/94/5430ebaa83f91cc7a9f687ff5238e26164a779cca2ef9903232268b0a318/Pillow-5.3.0-cp36-cp36m-manylinux1_x86_64.whl (2.0MB)\n",
            "\u001b[K    100% |████████████████████████████████| 2.0MB 4.0MB/s \n",
            "\u001b[?25hInstalling collected packages: torch, pillow, torchvision, shapely\n",
            "  Found existing installation: Pillow 4.0.0\n",
            "    Uninstalling Pillow-4.0.0:\n",
            "      Successfully uninstalled Pillow-4.0.0\n",
            "Successfully installed pillow-5.3.0 shapely-1.6.4.post2 torch-0.4.1 torchvision-0.2.1\n"
          ],
          "name": "stdout"
        }
      ]
    },
    {
      "metadata": {
        "colab": {},
        "colab_type": "code",
        "id": "yCOHxClSWKup"
      },
      "cell_type": "code",
      "source": [
        "!wget -q https://raw.githubusercontent.com/robertoalotufo/ia368z/master/PyTorch/lib/pytorch_trainer_v2.py -Plib/"
      ],
      "execution_count": 0,
      "outputs": []
    },
    {
      "metadata": {
        "colab": {},
        "colab_type": "code",
        "id": "ro9yOJtrPZq5"
      },
      "cell_type": "code",
      "source": [
        "%matplotlib inline\n",
        "import os\n",
        "import warnings\n",
        "from collections import OrderedDict\n",
        "\n",
        "import numpy as np\n",
        "from shapely import geometry\n",
        "\n",
        "import matplotlib.pyplot as plt\n",
        "from matplotlib import patches\n",
        "\n",
        "import torch\n",
        "import torch.nn as nn\n",
        "from torch.utils import data\n",
        "from torch.optim import lr_scheduler\n",
        "import torch.nn.functional as F\n",
        "\n",
        "import torchvision\n",
        "import torchvision.transforms as transforms\n",
        "from torchvision.datasets import MNIST\n",
        "\n",
        "# our library\n",
        "from lib import pytorch_trainer_v2 as ptt"
      ],
      "execution_count": 0,
      "outputs": []
    },
    {
      "metadata": {
        "colab": {
          "base_uri": "https://localhost:8080/",
          "height": 51
        },
        "colab_type": "code",
        "id": "KPnklmAgPZq-",
        "outputId": "d4293aa1-69b1-4196-f252-a27003c1e5c7"
      },
      "cell_type": "code",
      "source": [
        "# verifica se a GPU esta disponivel\n",
        "use_gpu = torch.cuda.is_available()\n",
        "print(\"Usando GPU:\", use_gpu)\n",
        "print('CPU Cores:', os.cpu_count())"
      ],
      "execution_count": 4,
      "outputs": [
        {
          "output_type": "stream",
          "text": [
            "Usando GPU: True\n",
            "CPU Cores: 2\n"
          ],
          "name": "stdout"
        }
      ]
    },
    {
      "metadata": {
        "colab_type": "text",
        "id": "MPTaqCRtPZrF"
      },
      "cell_type": "markdown",
      "source": [
        "## Carregando MNIST dataset"
      ]
    },
    {
      "metadata": {
        "id": "9nzOiS66xEJM",
        "colab_type": "code",
        "colab": {}
      },
      "cell_type": "code",
      "source": [
        "!mkdir data; mkdir data/MNIST"
      ],
      "execution_count": 0,
      "outputs": []
    },
    {
      "metadata": {
        "colab": {
          "base_uri": "https://localhost:8080/",
          "height": 204
        },
        "colab_type": "code",
        "id": "QY807Oc2PZrG",
        "outputId": "54100ae6-b9c2-4984-c980-ad1b07247ee1"
      },
      "cell_type": "code",
      "source": [
        "dataset_dir = 'data/MNIST/'\n",
        "\n",
        "# Transformara os dados em tensores no intervalo [0.0, 1.0] (Os dados serão normalizados)\n",
        "data_transform = transforms.ToTensor()\n",
        "# data_transform = None\n",
        "\n",
        "# carrega o conjunto de treinamento e de teste\n",
        "datasets_mnist = dict(train=MNIST(dataset_dir, train=True,  transform=data_transform, download=True),\n",
        "                val  =MNIST(dataset_dir, train=False, transform=data_transform, download=True))\n",
        "\n",
        "print('Amostras para treinamento:', len(datasets_mnist['train']))\n",
        "print('Amostras para validação:', len(datasets_mnist['val']))\n",
        "print(type(datasets_mnist['train'].train_data))\n",
        "print(datasets_mnist['train'].train_data.size())\n",
        "print(datasets_mnist['train'].train_data.min(), datasets_mnist['train'].train_data.max())"
      ],
      "execution_count": 6,
      "outputs": [
        {
          "output_type": "stream",
          "text": [
            "Downloading http://yann.lecun.com/exdb/mnist/train-images-idx3-ubyte.gz\n",
            "Downloading http://yann.lecun.com/exdb/mnist/train-labels-idx1-ubyte.gz\n",
            "Downloading http://yann.lecun.com/exdb/mnist/t10k-images-idx3-ubyte.gz\n",
            "Downloading http://yann.lecun.com/exdb/mnist/t10k-labels-idx1-ubyte.gz\n",
            "Processing...\n",
            "Done!\n",
            "Amostras para treinamento: 60000\n",
            "Amostras para validação: 10000\n",
            "<class 'torch.Tensor'>\n",
            "torch.Size([60000, 28, 28])\n",
            "tensor(0, dtype=torch.uint8) tensor(255, dtype=torch.uint8)\n"
          ],
          "name": "stdout"
        }
      ]
    },
    {
      "metadata": {
        "id": "8-Vj-yFvxEJR",
        "colab_type": "text"
      },
      "cell_type": "markdown",
      "source": [
        "# Definição do dataset com múltiplos dígitos"
      ]
    },
    {
      "metadata": {
        "id": "lK5JKvFJxEJS",
        "colab_type": "text"
      },
      "cell_type": "markdown",
      "source": [
        "## Testes iniciais"
      ]
    },
    {
      "metadata": {
        "id": "b11V33PYxEJT",
        "colab_type": "code",
        "colab": {}
      },
      "cell_type": "code",
      "source": [
        "# Função para criar uma imagem de teste, colocando várias amostras\n",
        "def make_sample(dataset, M, seed=None):\n",
        "    if seed is not None:\n",
        "        np.random.seed(seed)\n",
        "    N = np.random.randint(5, 8)\n",
        "    char_index = np.random.choice(len(dataset), N, replace=False)\n",
        "\n",
        "    # Empty image and outputs\n",
        "    boxes = []\n",
        "    image = np.zeros((M, M), np.uint8)\n",
        "    object_presence_map = np.zeros((M, M), np.int64)\n",
        "    class_scores_map = -1 * np.ones((M, M), np.int64)\n",
        "    \n",
        "    for k, ix in enumerate(char_index):\n",
        "        img, lab = dataset[ix]\n",
        "        img *= 255\n",
        "        img, lab = img.long(), lab.long()\n",
        "        img, lab = img.numpy(), lab.numpy()\n",
        "        img = img.reshape(28,28)\n",
        "        \n",
        "        # Samples a random position for the digit\n",
        "        x, y = np.random.randint(0, M-29, size=2)\n",
        "        digit_box = geometry.box(x, y, x+28, y+28)\n",
        "        if boxes:\n",
        "            retries = 0\n",
        "            skip = False\n",
        "            # If the digit box intersects with a previous digit, resample\n",
        "            while any(digit_box.intersects(box) for box in boxes):\n",
        "                if retries > 10:\n",
        "                    skip = True\n",
        "                    break\n",
        "                x, y = np.random.randint(0, M-29, size=2)\n",
        "                digit_box = geometry.box(x, y, x+28, y+28)\n",
        "                retries += 1\n",
        "            if skip:\n",
        "                continue\n",
        "        boxes.append(digit_box)\n",
        "                \n",
        "        image[y:y+28, x:x+28] = img\n",
        "        class_scores_map[y:y+28, x:x+28] = lab\n",
        "        # Object presence map equals to 1 inside a shrinked bounding box\n",
        "        object_presence_map[y+10:y+18, x+10:x+18] = 1\n",
        "        \n",
        "    # image = image[np.newaxis, ...]\n",
        "    # object_presence_map = object_presence_map[np.newaxis, ...]\n",
        "    # class_scores_map = class_scores_map[np.newaxis, ...]\n",
        "        \n",
        "    return image, object_presence_map, class_scores_map"
      ],
      "execution_count": 0,
      "outputs": []
    },
    {
      "metadata": {
        "id": "jUz7ImZtxEJV",
        "colab_type": "code",
        "colab": {}
      },
      "cell_type": "code",
      "source": [
        "def plot_sample(sample):\n",
        "    fig, axs = plt.subplots(nrows=1, ncols=3, figsize=(15, 5))\n",
        "\n",
        "    img, object_map, class_scores = sample\n",
        "    # Remove batch_size dims\n",
        "    # img = img.squeeze(3)\n",
        "    # object_map = object_map[0]\n",
        "    # class_scores = class_scores[0]\n",
        "    \n",
        "    cax = axs[0].imshow(img, cmap='gray')\n",
        "    axs[0].set_title('Imagem de entrada')\n",
        "    # fig.colorbar(ax=axs[0])\n",
        "\n",
        "    axs[1].imshow(object_map, cmap='gray')\n",
        "    axs[1].set_title('Mapa de presença de objeto')\n",
        "    # fig.colorbar(cax)\n",
        "\n",
        "    cax = axs[2].imshow(class_scores, cmap='rainbow')\n",
        "    axs[2].set_title('Mapa de classes')\n",
        "    fig.colorbar(cax)"
      ],
      "execution_count": 0,
      "outputs": []
    },
    {
      "metadata": {
        "id": "yJhjnREExEJX",
        "colab_type": "code",
        "colab": {
          "base_uri": "https://localhost:8080/",
          "height": 309
        },
        "outputId": "24658ecc-9d66-4a24-9d79-1dbdb3121803"
      },
      "cell_type": "code",
      "source": [
        "plot_sample(make_sample(datasets_mnist['train'], M=200, seed=9))"
      ],
      "execution_count": 9,
      "outputs": [
        {
          "output_type": "display_data",
          "data": {
            "image/png": "[encoded data removed]",
            "text/plain": [
              "<matplotlib.figure.Figure at 0x7fd8cb649e48>"
            ]
          },
          "metadata": {
            "tags": []
          }
        }
      ]
    },
    {
      "metadata": {
        "id": "PpLpuavsxEJa",
        "colab_type": "code",
        "colab": {}
      },
      "cell_type": "code",
      "source": [
        "class MultiDigitDataset(torch.utils.data.Dataset):\n",
        "    \n",
        "    def __init__(self, dataset, image_size=(200, 200), transform=None, length=None, random=False):\n",
        "        self.dataset = dataset\n",
        "        self.image_size = image_size\n",
        "        self.length = length or len(dataset)\n",
        "        self.random = random\n",
        "        \n",
        "        self.transform = transform\n",
        "        \n",
        "    def set_length(self, length):\n",
        "        self.length = length\n",
        "        \n",
        "    def __len__(self):\n",
        "        return self.length\n",
        "        \n",
        "    def __getitem__(self, ix):\n",
        "        seed = ix if not self.random else None\n",
        "        img, obj_map, cls_map = make_sample(self.dataset, self.image_size[0], seed=seed)\n",
        "        \n",
        "        img = img[..., np.newaxis]\n",
        "        \n",
        "        if self.transform:\n",
        "            img = self.transform(img)\n",
        "        return img, np.dstack((obj_map, cls_map)).transpose(2, 0, 1)"
      ],
      "execution_count": 0,
      "outputs": []
    },
    {
      "metadata": {
        "id": "QfT_YdTMxEJd",
        "colab_type": "text"
      },
      "cell_type": "markdown",
      "source": [
        "Visualizando shapes, dtypes, valores mínimo e máximo"
      ]
    },
    {
      "metadata": {
        "id": "OeDpvlWzxEJe",
        "colab_type": "code",
        "colab": {}
      },
      "cell_type": "code",
      "source": [
        "ds = {\n",
        "    'train': MultiDigitDataset(datasets_mnist['train'], length=128, random=False),\n",
        "    'val': MultiDigitDataset(datasets_mnist['val'], length=128, random=False),\n",
        "}"
      ],
      "execution_count": 0,
      "outputs": []
    },
    {
      "metadata": {
        "id": "Vy6-2IpmxEJh",
        "colab_type": "code",
        "colab": {
          "base_uri": "https://localhost:8080/",
          "height": 68
        },
        "outputId": "f6f1dafa-4a8d-41fe-ffe5-f70c20a768d9"
      },
      "cell_type": "code",
      "source": [
        "x, y = ds['train'][0]\n",
        "\n",
        "obj_map = y[0]\n",
        "cls_map = y[1]\n",
        "\n",
        "print('x:', x.shape, x.dtype, x.min(), x.max())\n",
        "print('obj_map:', obj_map.shape, obj_map.dtype, obj_map.min(), obj_map.max())\n",
        "print('cls_map:', cls_map.shape, cls_map.dtype, cls_map.min(), cls_map.max())"
      ],
      "execution_count": 12,
      "outputs": [
        {
          "output_type": "stream",
          "text": [
            "x: (200, 200, 1) uint8 0 255\n",
            "obj_map: (200, 200) int64 0 1\n",
            "cls_map: (200, 200) int64 -1 6\n"
          ],
          "name": "stdout"
        }
      ]
    },
    {
      "metadata": {
        "colab_type": "text",
        "id": "RAtEGsg4PZrQ"
      },
      "cell_type": "markdown",
      "source": [
        "## Definição do modelo com camadas densas (igual ao notebook anterior)"
      ]
    },
    {
      "metadata": {
        "colab": {},
        "colab_type": "code",
        "id": "7zlGcXS-PZrR"
      },
      "cell_type": "code",
      "source": [
        "class MyModel(nn.Module):\n",
        "    \n",
        "    def make_conv_block(self, in_channels, out_channels, kernel_size=3, padding=1):\n",
        "        layers = [\n",
        "            nn.Conv2d(in_channels=in_channels,\n",
        "                      out_channels=out_channels,\n",
        "                      kernel_size=kernel_size,\n",
        "                      padding=padding,\n",
        "                      bias=False,\n",
        "                     ),\n",
        "            nn.BatchNorm2d(out_channels),\n",
        "            nn.ReLU(),\n",
        "        ]\n",
        "\n",
        "        return nn.Sequential(*layers)\n",
        "    \n",
        "    \n",
        "    def make_upsample_block(self, in_channels, out_channels):\n",
        "        layers = [\n",
        "            nn.Upsample(scale_factor=2,\n",
        "                        mode='nearest',\n",
        "                       ),\n",
        "            nn.ConstantPad2d(padding=(1, 0, 1, 0), # Padding Left, Right, Top, Bottom\n",
        "                             value=0,\n",
        "                            ),\n",
        "            nn.Conv2d(in_channels=in_channels,\n",
        "                      out_channels=out_channels,\n",
        "                      kernel_size=2,\n",
        "                      padding=0,\n",
        "                      bias=False,\n",
        "                     ),\n",
        "            nn.BatchNorm2d(out_channels),\n",
        "            nn.ReLU(),\n",
        "        ]\n",
        "        return nn.Sequential(*layers)\n",
        "    \n",
        "        \n",
        "\n",
        "    def __init__(self):\n",
        "        super(MyModel, self).__init__()\n",
        "        \n",
        "        self.dropout = nn.Dropout2d()\n",
        "        self.max_pool = nn.MaxPool2d(kernel_size=2, stride=2)\n",
        "        \n",
        "        # Contracting branch\n",
        "        self.conv1_1 = self.make_conv_block(in_channels=1, out_channels=16, kernel_size=3)\n",
        "        self.conv1_2 = self.make_conv_block(in_channels=16, out_channels=8, kernel_size=1, padding=0)\n",
        "        self.conv1_3 = self.make_conv_block(in_channels=8, out_channels=16, kernel_size=3)\n",
        "        self.conv1_4 = self.make_conv_block(in_channels=16, out_channels=32, kernel_size=3)\n",
        "        self.conv1_5 = self.make_conv_block(in_channels=32, out_channels=16, kernel_size=1, padding=0)\n",
        "        self.conv1_6 = self.make_conv_block(in_channels=16, out_channels=32, kernel_size=3)\n",
        "        \n",
        "        # Bottleneck\n",
        "        self.middle_conv_1 = self.make_conv_block(in_channels=32, out_channels=64)\n",
        "        self.middle_conv_2 = self.make_conv_block(in_channels=64, out_channels=32, kernel_size=1, padding=0)\n",
        "        self.middle_conv_3 = self.make_conv_block(in_channels=32, out_channels=64)\n",
        "        \n",
        "        \n",
        "        # Expanding branch\n",
        "        self.upconv_1 = self.make_upsample_block(in_channels=64, out_channels=32)\n",
        "        self.conv2_1 = self.make_conv_block(in_channels=64, out_channels=32, kernel_size=3)\n",
        "        self.conv2_2 = self.make_conv_block(in_channels=32, out_channels=16, kernel_size=1, padding=0)\n",
        "        self.conv2_3 = self.make_conv_block(in_channels=16, out_channels=32, kernel_size=3)\n",
        "        self.upconv_2 = self.make_upsample_block(in_channels=32, out_channels=16)\n",
        "        self.conv2_4 = self.make_conv_block(in_channels=32, out_channels=16, kernel_size=3)\n",
        "        self.conv2_5 = self.make_conv_block(in_channels=16, out_channels=8, kernel_size=1, padding=0)\n",
        "        self.conv2_6 = self.make_conv_block(in_channels=8, out_channels=16, kernel_size=3)\n",
        "         \n",
        "        # Final layer\n",
        "        # out_channels=12: \n",
        "        #    2 channels for object and non-object probability scores)\n",
        "        #    10 channels for prob scores of the 10 classes\n",
        "        self.final_conv = nn.Conv2d(in_channels=16, out_channels=12, kernel_size=1, padding=0, bias=True)\n",
        "        \n",
        "        \n",
        "    def forward(self, x):\n",
        "        \n",
        "        # print('initial:', x.shape)\n",
        "        x = self.conv1_1(x)\n",
        "        x = self.conv1_2(x)\n",
        "        x_H_1 = self.conv1_3(x)    # H, W\n",
        "        # print('antes MP1:', x_H_1.shape)\n",
        "        x = self.max_pool(x_H_1)   # H/2, W/2\n",
        "        # print(x.shape)\n",
        "        x = self.conv1_4(x)\n",
        "        # print(x.shape)\n",
        "        x = self.conv1_5(x)\n",
        "        # print(x.shape)\n",
        "        x_H2_1 = self.conv1_6(x)   # H/2, W/2\n",
        "        # print('antes MP2:', x_H2_1.shape)\n",
        "        x = self.max_pool(x_H2_1)  # H/4, W/4\n",
        "        # x = self.dropout(x)\n",
        "        # print(x.shape)\n",
        "        \n",
        "        x = self.middle_conv_1(x)    # H/4, W/4\n",
        "        x = self.middle_conv_2(x)\n",
        "        x = self.middle_conv_3(x)\n",
        "        # print('middle:', x.shape)\n",
        "\n",
        "        x_H2_2 = self.upconv_1(x)   # H/2, W/2\n",
        "        # print('upconv1:', x_H2_2.shape)\n",
        "        \n",
        "        x_H2 = torch.cat((x_H2_1, x_H2_2), dim=1)\n",
        "        # print('cat:', x_H2.shape)\n",
        "        # x_H2 = self.dropout(x_H2)\n",
        "        \n",
        "        x = self.conv2_1(x_H2)\n",
        "        x = self.conv2_2(x)\n",
        "        x = self.conv2_3(x)\n",
        "        # print(x.shape)\n",
        "        \n",
        "        x_H_2 = self.upconv_2(x)    # H, W\n",
        "        # print('upconv2:', x_H_2.shape)\n",
        "        \n",
        "        x_H = torch.cat((x_H_1, x_H_2), dim=1)\n",
        "        # print('cat:', x_H.shape)\n",
        "        # x_H = self.dropout(x_H)\n",
        "        \n",
        "        x = self.conv2_4(x_H)\n",
        "        x = self.conv2_5(x)\n",
        "        x = self.conv2_6(x)\n",
        "        # print('antes final:', x.shape)\n",
        "        \n",
        "        y = self.final_conv(x)\n",
        "        \n",
        "        # # Object and non-object scores\n",
        "        # obj_scores = x[:, :2, :, :]\n",
        "        # # Class scores\n",
        "        # class_scores = x[:, 2:, :, :]\n",
        "        \n",
        "        return y"
      ],
      "execution_count": 0,
      "outputs": []
    },
    {
      "metadata": {
        "id": "oYKtKqmhxEJp",
        "colab_type": "code",
        "colab": {}
      },
      "cell_type": "code",
      "source": [
        "model = MyModel()"
      ],
      "execution_count": 0,
      "outputs": []
    },
    {
      "metadata": {
        "id": "AGmORCinxEJr",
        "colab_type": "text"
      },
      "cell_type": "markdown",
      "source": [
        "### Testando o shape de saída"
      ]
    },
    {
      "metadata": {
        "scrolled": true,
        "id": "xOyUEuQuxEJs",
        "colab_type": "code",
        "colab": {
          "base_uri": "https://localhost:8080/",
          "height": 51
        },
        "outputId": "24b6bb37-0e8a-4587-d34e-9b059d579b66"
      },
      "cell_type": "code",
      "source": [
        "warnings.filterwarnings(\"ignore\")\n",
        "x = torch.randn((1, 1, 200, 200))\n",
        "y = model(x)\n",
        "print(y.shape)\n",
        "print('Input and output have same spatial dimensions?', x.shape[2:] == y.shape[2:])\n"
      ],
      "execution_count": 15,
      "outputs": [
        {
          "output_type": "stream",
          "text": [
            "torch.Size([1, 12, 200, 200])\n",
            "Input and output have same spatial dimensions? True\n"
          ],
          "name": "stdout"
        }
      ]
    },
    {
      "metadata": {
        "id": "ez6UmarCxEJu",
        "colab_type": "text"
      },
      "cell_type": "markdown",
      "source": [
        "## Treinamento com Overfit"
      ]
    },
    {
      "metadata": {
        "id": "jp1BHx9fxEJv",
        "colab_type": "text"
      },
      "cell_type": "markdown",
      "source": [
        "### Datasets e DataLoaders"
      ]
    },
    {
      "metadata": {
        "id": "EFqiCLLwxEJw",
        "colab_type": "code",
        "colab": {}
      },
      "cell_type": "code",
      "source": [
        "ds = {\n",
        "    'train': MultiDigitDataset(datasets_mnist['train'],\n",
        "                               length=16,\n",
        "                               transform=torchvision.transforms.ToTensor(),\n",
        "                               random=False),\n",
        "    'val': MultiDigitDataset(datasets_mnist['val'],\n",
        "                             length=16,\n",
        "                             transform=torchvision.transforms.ToTensor(),\n",
        "                             random=False),\n",
        "}\n",
        "\n",
        "dls = {\n",
        "    'train': data.DataLoader(ds['train'], batch_size=16, num_workers=os.cpu_count(), shuffle=False),\n",
        "    'val': data.DataLoader(ds['val'], batch_size=16, num_workers=os.cpu_count(), shuffle=False),\n",
        "}"
      ],
      "execution_count": 0,
      "outputs": []
    },
    {
      "metadata": {
        "id": "_WQ43PCkxEJx",
        "colab_type": "code",
        "colab": {
          "base_uri": "https://localhost:8080/",
          "height": 51
        },
        "outputId": "1feac73a-193d-41d9-cdca-253ae19cf870"
      },
      "cell_type": "code",
      "source": [
        "X, Y = next(iter(dls['train']))\n",
        "\n",
        "print(X.shape, X.type(), X.min(), X.max())\n",
        " \n",
        "print(Y.shape, Y.type(), Y.min(), Y.max())"
      ],
      "execution_count": 17,
      "outputs": [
        {
          "output_type": "stream",
          "text": [
            "torch.Size([16, 1, 200, 200]) torch.FloatTensor tensor(0.) tensor(1.)\n",
            "torch.Size([16, 2, 200, 200]) torch.LongTensor tensor(-1) tensor(9)\n"
          ],
          "name": "stdout"
        }
      ]
    },
    {
      "metadata": {
        "id": "SQppS9TCxEJz",
        "colab_type": "code",
        "colab": {
          "base_uri": "https://localhost:8080/",
          "height": 51
        },
        "outputId": "192048d0-c3ed-44bb-9690-21b8ba93dd14"
      },
      "cell_type": "code",
      "source": [
        "X, Y = next(iter(dls['val']))\n",
        "\n",
        "print(X.shape, X.type(), X.min(), X.max())\n",
        "\n",
        "print(Y.shape, Y.type(), Y.min(), Y.max())"
      ],
      "execution_count": 18,
      "outputs": [
        {
          "output_type": "stream",
          "text": [
            "torch.Size([16, 1, 200, 200]) torch.FloatTensor tensor(0.) tensor(1.)\n",
            "torch.Size([16, 2, 200, 200]) torch.LongTensor tensor(-1) tensor(9)\n"
          ],
          "name": "stdout"
        }
      ]
    },
    {
      "metadata": {
        "id": "T_6nZgKMxEJ2",
        "colab_type": "text"
      },
      "cell_type": "markdown",
      "source": [
        "### Trainer"
      ]
    },
    {
      "metadata": {
        "id": "abYXc9azxEJ2",
        "colab_type": "code",
        "colab": {}
      },
      "cell_type": "code",
      "source": [
        "class CombinedLoss(nn.Module):\n",
        "    \n",
        "    def __init__(self, obj_presence_weights=[0.05, 5]):\n",
        "        super().__init__()\n",
        "        obj_presence_weights = torch.tensor(obj_presence_weights)\n",
        "        self.CE_obj = nn.CrossEntropyLoss(weight=obj_presence_weights)\n",
        "        self.CE_cls = nn.CrossEntropyLoss(ignore_index=-1)\n",
        "        \n",
        "    def __call__(self, Ypred, Y):\n",
        "        obj_map = Y[:, 0, :, :]\n",
        "        cls_map = Y[:, 1, :, :]\n",
        "        \n",
        "        obj_map_pred = Ypred[:, :2, :, :]\n",
        "        cls_map_pred = Ypred[:, 2:, :, :]\n",
        "        \n",
        "        obj_loss = self.CE_obj(obj_map_pred, obj_map)\n",
        "        cls_loss = self.CE_cls(cls_map_pred, cls_map)\n",
        "        \n",
        "        return obj_loss + cls_loss\n",
        "\n",
        "\n",
        "class MyTrainer(ptt.DeepNetTrainer):\n",
        "    \n",
        "    def __init__(self, model, lr, devname='cpu', **kwargs):\n",
        "        self.dev_name = devname\n",
        "        device = torch.device(self.dev_name)\n",
        "        \n",
        "        self.model = model.to(device)\n",
        "        \n",
        "        optimizer = torch.optim.Adam(self.model.parameters(), lr=lr)\n",
        "        criterion = CombinedLoss().to(device)\n",
        "        scheduler = torch.optim.lr_scheduler.StepLR(optimizer, step_size=30, gamma=0.3)\n",
        "        \n",
        "        super().__init__(model,\n",
        "                         optimizer=optimizer,\n",
        "                         criterion=criterion,\n",
        "                         lr_scheduler=scheduler,\n",
        "                         devname=devname,\n",
        "                         **kwargs)\n",
        "    \n",
        "    \n",
        "    def _do_optimize(self, X, Y):\n",
        "        self.optimizer.zero_grad()\n",
        "        Ypred = self.model.forward(X)\n",
        "        loss = self.criterion(Ypred, Y)\n",
        "        loss.backward()\n",
        "        self.optimizer.step()\n",
        "        return Ypred, loss\n",
        "\n",
        "    def _do_evaluate(self, X, Y):\n",
        "        Ypred = self.model.forward(X)\n",
        "        loss = self.criterion(Ypred, Y)\n",
        "        return Ypred, loss"
      ],
      "execution_count": 0,
      "outputs": []
    },
    {
      "metadata": {
        "id": "cTaUuTamxEJ4",
        "colab_type": "code",
        "colab": {}
      },
      "cell_type": "code",
      "source": [
        "model = MyModel()"
      ],
      "execution_count": 0,
      "outputs": []
    },
    {
      "metadata": {
        "id": "BMcXfuchxEJ6",
        "colab_type": "code",
        "colab": {}
      },
      "cell_type": "code",
      "source": [
        "cb_chkpt = ptt.ModelCheckpoint('.models/multi_MNIST_v2_overfit', reset=True, verbose=1, load_best=True)\n",
        "\n",
        "trainer = MyTrainer(model,\n",
        "                    lr=0.3,\n",
        "                    devname=0,\n",
        "                    callbacks = [ptt.PrintCallback(),\n",
        "                                 cb_chkpt],\n",
        "                   )"
      ],
      "execution_count": 0,
      "outputs": []
    },
    {
      "metadata": {
        "scrolled": true,
        "id": "naVNh9YrxEJ7",
        "colab_type": "code",
        "colab": {}
      },
      "cell_type": "code",
      "source": [
        "n_epochs = 100\n",
        "trainer.fit_loader(n_epochs, dls['train'], dls['val'])"
      ],
      "execution_count": 0,
      "outputs": []
    },
    {
      "metadata": {
        "id": "ixE6g2Z2xEJ_",
        "colab_type": "text"
      },
      "cell_type": "markdown",
      "source": [
        "## Treinando com dataset maior"
      ]
    },
    {
      "metadata": {
        "id": "pIDyyRYoxEKA",
        "colab_type": "code",
        "colab": {}
      },
      "cell_type": "code",
      "source": [
        "ds = {\n",
        "    'train': MultiDigitDataset(datasets_mnist['train'],\n",
        "                               length=12800,\n",
        "                               transform=torchvision.transforms.ToTensor(),\n",
        "                               random=True),\n",
        "    'val': MultiDigitDataset(datasets_mnist['val'],\n",
        "                             length=1280,\n",
        "                             transform=torchvision.transforms.ToTensor(),\n",
        "                             random=False),\n",
        "}\n",
        "\n",
        "dls = {\n",
        "    'train': data.DataLoader(ds['train'], batch_size=64, num_workers=os.cpu_count(), shuffle=False),\n",
        "    'val': data.DataLoader(ds['val'], batch_size=64, num_workers=os.cpu_count(), shuffle=False),\n",
        "}"
      ],
      "execution_count": 0,
      "outputs": []
    },
    {
      "metadata": {
        "id": "0XppH_spxEKC",
        "colab_type": "code",
        "colab": {}
      },
      "cell_type": "code",
      "source": [
        "model = MyModel()"
      ],
      "execution_count": 0,
      "outputs": []
    },
    {
      "metadata": {
        "id": "kRAAFaWNxEKF",
        "colab_type": "code",
        "colab": {}
      },
      "cell_type": "code",
      "source": [
        "cb_chkpt = ptt.ModelCheckpoint('.models/multi_MNIST_v2', reset=False, verbose=1, load_best=True)\n",
        "\n",
        "trainer = MyTrainer(model,\n",
        "                    lr=0.03,\n",
        "                    devname=0,\n",
        "                    callbacks = [ptt.PrintCallback(),\n",
        "                                 cb_chkpt],\n",
        "                   )"
      ],
      "execution_count": 0,
      "outputs": []
    },
    {
      "metadata": {
        "id": "ev4keKzzxEKI",
        "colab_type": "code",
        "colab": {}
      },
      "cell_type": "code",
      "source": [
        "n_epochs = 10\n",
        "trainer.fit_loader(n_epochs, dls['train'], dls['val'])"
      ],
      "execution_count": 0,
      "outputs": []
    },
    {
      "metadata": {
        "id": "G4JELXRlxEKL",
        "colab_type": "code",
        "colab": {}
      },
      "cell_type": "code",
      "source": [
        "# Load do modelo\n",
        "trainer.fit_loader(0, dls['train'], dls['val'])"
      ],
      "execution_count": 0,
      "outputs": []
    },
    {
      "metadata": {
        "id": "4q1ju-nSxEKP",
        "colab_type": "text"
      },
      "cell_type": "markdown",
      "source": [
        "## Avaliação\n"
      ]
    },
    {
      "metadata": {
        "id": "p5rU2vXxxEKQ",
        "colab_type": "code",
        "colab": {}
      },
      "cell_type": "code",
      "source": [
        "model = model.eval()\n",
        "\n",
        "ds['eval'] =  MultiDigitDataset(datasets_mnist['val'],\n",
        "                               length=12800,\n",
        "                               transform=torchvision.transforms.ToTensor(),\n",
        "                               random=True,\n",
        "                               image_size=(200, 200))\n",
        "\n",
        "dls = {\n",
        "    'eval': data.DataLoader(ds['eval'], batch_size=64, num_workers=1, shuffle=False),\n",
        "}\n",
        "\n",
        "X, Y = next(iter(dls['eval']))\n",
        "\n",
        "sample_no = 63\n",
        "x = X[sample_no:sample_no+1, ...]\n",
        "y = Y[sample_no, ...]\n",
        "\n",
        "with torch.no_grad():\n",
        "    y_pred = model(x.to(0))\n",
        "y_pred = y_pred.cpu()\n",
        "\n",
        "x = (x[0][0] * 255).byte()\n",
        "print(x.shape, x.min(), x.max(), x.type())"
      ],
      "execution_count": 0,
      "outputs": []
    },
    {
      "metadata": {
        "id": "vi5q4_qJxEKS",
        "colab_type": "code",
        "colab": {}
      },
      "cell_type": "code",
      "source": [
        "obj_map_pred = y_pred[0][:2]\n",
        "print(obj_map_pred.shape)\n",
        "\n",
        "cls_map_pred = y_pred[0][2:]\n",
        "print(cls_map_pred.shape)"
      ],
      "execution_count": 0,
      "outputs": []
    },
    {
      "metadata": {
        "id": "sxe8UjmRxEKV",
        "colab_type": "code",
        "colab": {}
      },
      "cell_type": "code",
      "source": [
        "obj_map_pred[1].min(), obj_map_pred[1].max()"
      ],
      "execution_count": 0,
      "outputs": []
    },
    {
      "metadata": {
        "id": "MLwHni5YxEKX",
        "colab_type": "code",
        "colab": {}
      },
      "cell_type": "code",
      "source": [
        "plot_sample((x, y[0].numpy(), y[1].numpy()))"
      ],
      "execution_count": 0,
      "outputs": []
    },
    {
      "metadata": {
        "id": "hoY-Qwz8xEKZ",
        "colab_type": "code",
        "colab": {}
      },
      "cell_type": "code",
      "source": [
        "# Probabilidade de presença de objeto\n",
        "obj_map_prob = F.softmax(obj_map_pred, dim=0)[1,:,:]\n",
        "print(obj_map_prob.shape)\n",
        "# Probabilidade das classes\n",
        "cls_map_prob = F.softmax(cls_map_pred, dim=0)\n",
        "\n",
        "max_cls_prob, cls_pred = torch.max(cls_map_prob, dim=0)\n",
        "print(max_cls_prob.shape)\n",
        "print(cls_pred.shape)"
      ],
      "execution_count": 0,
      "outputs": []
    },
    {
      "metadata": {
        "id": "JVSWmWnHxEKc",
        "colab_type": "code",
        "colab": {}
      },
      "cell_type": "code",
      "source": [
        "# mapa de presença de objeto\n",
        "\n",
        "fig, axs = plt.subplots(1, 3, figsize=(15, 5))\n",
        "\n",
        "axs[0].imshow(obj_map_prob.numpy(), cmap='gray')\n",
        "axs[0].set_title('Probabilidade P(obj)')\n",
        "\n",
        "cax = axs[1].imshow(max_cls_prob.numpy(), cmap='gray')\n",
        "axs[1].set_title('max(P(classe))')\n",
        "\n",
        "cax = axs[2].imshow(max_cls_prob.numpy() * obj_map_prob, cmap='gray')\n",
        "axs[2].set_title('max(P(classe)) * P(obj)')\n",
        "fig.colorbar(cax)"
      ],
      "execution_count": 0,
      "outputs": []
    },
    {
      "metadata": {
        "id": "JKsvaCtOxEKf",
        "colab_type": "code",
        "colab": {}
      },
      "cell_type": "code",
      "source": [
        "obj_presence = obj_map_prob.numpy() > 0.5\n",
        "cls_map = np.where(obj_presence, cls_pred, -1)\n",
        "\n",
        "plot_sample((x, obj_presence, cls_map))"
      ],
      "execution_count": 0,
      "outputs": []
    },
    {
      "metadata": {
        "id": "mx1OpYPgxEKh",
        "colab_type": "code",
        "colab": {}
      },
      "cell_type": "code",
      "source": [
        "threshold = 0.75\n",
        "final_pred = np.where(obj_map_prob > threshold, cls_pred, -1)\n",
        "\n",
        "plt.imshow(final_pred, cmap='rainbow')\n",
        "plt.colorbar()"
      ],
      "execution_count": 0,
      "outputs": []
    },
    {
      "metadata": {
        "id": "RNDXVci7xEKj",
        "colab_type": "text"
      },
      "cell_type": "markdown",
      "source": [
        "## Tentando implementar non-maximum suppression"
      ]
    },
    {
      "metadata": {
        "id": "iFo0KzzLxEKk",
        "colab_type": "code",
        "colab": {}
      },
      "cell_type": "code",
      "source": [
        "def get_boxes(all_cls_probs, p_thresh=0.75):\n",
        "    boxes = []\n",
        "    for C in range(10):\n",
        "        cls_probs = all_cls_probs[C]\n",
        "        cls_boxes = []\n",
        "        H, W = cls_probs.shape\n",
        "        \n",
        "        i, j = np.unravel_index(np.argsort(cls_probs, axis=None), (H, W))\n",
        "        \n",
        "        # Threshold the probs\n",
        "        sorted_probs = cls_probs[(i, j)]\n",
        "        th_probs = np.argwhere(sorted_probs > p_thresh)\n",
        "        if len(th_probs):\n",
        "            N = th_probs.shape[1]\n",
        "            i, j = i[-N:], j[-N:]\n",
        "\n",
        "            # Bboxes de 28x28\n",
        "            x1 = np.maximum(j-13, 0)\n",
        "            y1 = np.maximum(i-13, 0)\n",
        "            x2 = np.minimum(j+14, W)\n",
        "            y2 = np.minimum(i+14, H)\n",
        "            p = sorted_probs[-N:]\n",
        "            cls_boxes = np.stack((x1, y1, x2, y2, p), axis=1)\n",
        "                    \n",
        "        boxes.append(cls_boxes)\n",
        "\n",
        "    return boxes\n",
        "        \n",
        "        \n",
        "# Malisiewicz et al.\n",
        "# fonte: https://www.pyimagesearch.com/2015/02/16/faster-non-maximum-suppression-python/\n",
        "def non_max_suppression_fast(boxes, overlapThresh):\n",
        "    # if there are no boxes, return an empty list\n",
        "    if len(boxes) == 0:\n",
        "        return []\n",
        "\n",
        "    # if the bounding boxes integers, convert them to floats --\n",
        "    # this is important since we'll be doing a bunch of divisions\n",
        "    if boxes.dtype.kind == \"i\":\n",
        "        boxes = boxes.astype(\"float\")\n",
        "\n",
        "    # initialize the list of picked indexes\t\n",
        "    pick = []\n",
        "\n",
        "    # grab the coordinates of the bounding boxes\n",
        "    x1 = boxes[:,0]\n",
        "    y1 = boxes[:,1]\n",
        "    x2 = boxes[:,2]\n",
        "    y2 = boxes[:,3]\n",
        "\n",
        "    # compute the area of the bounding boxes and sort the bounding\n",
        "    # boxes by the bottom-right y-coordinate of the bounding box\n",
        "    area = (x2 - x1 + 1) * (y2 - y1 + 1)\n",
        "    idxs = np.argsort(y2)\n",
        "\n",
        "    # keep looping while some indexes still remain in the indexes\n",
        "    # list\n",
        "    while len(idxs) > 0:\n",
        "        # grab the last index in the indexes list and add the\n",
        "        # index value to the list of picked indexes\n",
        "        last = len(idxs) - 1\n",
        "        i = idxs[last]\n",
        "        pick.append(i)\n",
        "\n",
        "        # find the largest (x, y) coordinates for the start of\n",
        "        # the bounding box and the smallest (x, y) coordinates\n",
        "        # for the end of the bounding box\n",
        "        xx1 = np.maximum(x1[i], x1[idxs[:last]])\n",
        "        yy1 = np.maximum(y1[i], y1[idxs[:last]])\n",
        "        xx2 = np.minimum(x2[i], x2[idxs[:last]])\n",
        "        yy2 = np.minimum(y2[i], y2[idxs[:last]])\n",
        "\n",
        "        # compute the width and height of the bounding box\n",
        "        w = np.maximum(0, xx2 - xx1 + 1)\n",
        "        h = np.maximum(0, yy2 - yy1 + 1)\n",
        "\n",
        "        # compute the ratio of overlap\n",
        "        overlap = (w * h) / area[idxs[:last]]\n",
        "\n",
        "        # delete all indexes from the index list that have\n",
        "        idxs = np.delete(idxs, np.concatenate(([last],\n",
        "            np.where(overlap > overlapThresh)[0])))\n",
        "\n",
        "    # return only the bounding boxes that were picked using the\n",
        "    # integer data type\n",
        "    return boxes[pick].astype(\"int\")"
      ],
      "execution_count": 0,
      "outputs": []
    },
    {
      "metadata": {
        "id": "YO6x0dmgxEKq",
        "colab_type": "text"
      },
      "cell_type": "markdown",
      "source": [
        "### Visualizando"
      ]
    },
    {
      "metadata": {
        "id": "DIcx4y6jxEKs",
        "colab_type": "code",
        "colab": {}
      },
      "cell_type": "code",
      "source": [
        "final_cls_probs = cls_map_prob * obj_map_prob\n",
        "\n",
        "all_boxes = get_boxes(final_cls_probs, p_thresh=0.9)\n",
        "\n",
        "iou_thresh = 0.3\n",
        "nms_boxes = [non_max_suppression_fast(boxes, iou_thresh) for boxes in all_boxes]\n",
        "\n",
        "mean_nms_boxes = [mean_non_max_suppression_fast(boxes, iou_thresh) for boxes in all_boxes]"
      ],
      "execution_count": 0,
      "outputs": []
    },
    {
      "metadata": {
        "scrolled": false,
        "id": "DpNOxPk_xEKt",
        "colab_type": "code",
        "colab": {}
      },
      "cell_type": "code",
      "source": [
        "img = x.numpy().copy()\n",
        "img = np.dstack((img, img, img))\n",
        "\n",
        "fig, axs = plt.subplots(1, 2, figsize=(20, 10))\n",
        "axs[0].imshow(img)\n",
        "axs[1].imshow(img)\n",
        "\n",
        "color_list = plt.cm.gist_rainbow(np.linspace(0, 1, 10))\n",
        "\n",
        "# Todas as bounding boxes\n",
        "for C in range(10):\n",
        "    color = color_list[C]\n",
        "    cls_boxes = all_boxes[C]\n",
        "    for box in cls_boxes:\n",
        "        h = box[3] - box[1]\n",
        "        w = box[2] - box[0]\n",
        "        patch = axs[0].add_patch(patches.Rectangle(box[:2], w, h, fill=False, edgecolor=color, lw=2))\n",
        "\n",
        "\n",
        "# Bboxes após NMS\n",
        "\n",
        "for C in range(10):\n",
        "    color = color_list[C]\n",
        "    cls_boxes = nms_boxes[C]\n",
        "    for box in cls_boxes:\n",
        "        h = box[3] - box[1]\n",
        "        w = box[2] - box[0]\n",
        "        patch = axs[1].add_patch(patches.Rectangle(box[:2], w, h, fill=False, edgecolor=color, lw=2))\n"
      ],
      "execution_count": 0,
      "outputs": []
    },
    {
      "metadata": {
        "colab_type": "text",
        "id": "MR84M_vUPZtI"
      },
      "cell_type": "markdown",
      "source": [
        "## Tentando implementar NMS com média das BBoxes"
      ]
    },
    {
      "metadata": {
        "colab": {},
        "colab_type": "code",
        "id": "BHeCAtuDPZtJ"
      },
      "cell_type": "code",
      "source": [
        "def mean_non_max_suppression_fast(boxes, overlapThresh):\n",
        "    # if there are no boxes, return an empty list\n",
        "    if len(boxes) == 0:\n",
        "        return []\n",
        "\n",
        "    # if the bounding boxes integers, convert them to floats --\n",
        "    # this is important since we'll be doing a bunch of divisions\n",
        "    if boxes.dtype.kind == \"i\":\n",
        "        boxes = boxes.astype(\"float\")\n",
        "\n",
        "    # mean boxes\n",
        "    mean_boxes = []\n",
        "\n",
        "    # grab the coordinates of the bounding boxes\n",
        "    x1 = boxes[:,0]\n",
        "    y1 = boxes[:,1]\n",
        "    x2 = boxes[:,2]\n",
        "    y2 = boxes[:,3]\n",
        "    p = boxes[:, 4]\n",
        "\n",
        "    # compute the area of the bounding boxes and sort the bounding\n",
        "    # boxes by the bottom-right y-coordinate of the bounding box\n",
        "    area = (x2 - x1 + 1) * (y2 - y1 + 1)\n",
        "    idxs = np.argsort(y2)\n",
        "\n",
        "    # keep looping while some indexes still remain in the indexes\n",
        "    # list\n",
        "    while len(idxs) > 0:\n",
        "        # grab the last index in the indexes list and add the\n",
        "        # index value to the list of picked indexes\n",
        "        last = len(idxs) - 1\n",
        "        i = idxs[last]\n",
        "\n",
        "        # find the largest (x, y) coordinates for the start of\n",
        "        # the bounding box and the smallest (x, y) coordinates\n",
        "        # for the end of the bounding box\n",
        "        xx1 = np.maximum(x1[i], x1[idxs[:last]])\n",
        "        yy1 = np.maximum(y1[i], y1[idxs[:last]])\n",
        "        xx2 = np.minimum(x2[i], x2[idxs[:last]])\n",
        "        yy2 = np.minimum(y2[i], y2[idxs[:last]])\n",
        "\n",
        "        # compute the width and height of the bounding box\n",
        "        w = np.maximum(0, xx2 - xx1 + 1)\n",
        "        h = np.maximum(0, yy2 - yy1 + 1)\n",
        "\n",
        "        # compute the ratio of overlap\n",
        "        overlap = (w * h) / area[idxs[:last]]\n",
        "        \n",
        "        # Calculate the mean box for all overlapping boxes\n",
        "        box_ixs = np.where(overlap > overlapThresh)[0]\n",
        "        p_sum = p[last] + p[box_ixs].sum()\n",
        "        mean_box = p[last] * boxes[last, :4] + np.sum(p[box_ixs][:, np.newaxis] * boxes[box_ixs, :4], axis=0)\n",
        "        mean_box = mean_box / p_sum\n",
        "        mean_boxes.append(mean_box)\n",
        "        \n",
        "        # delete all indexes from the index list that have\n",
        "        # been used\n",
        "        idxs = np.delete(idxs, np.concatenate(([last], box_ixs)))\n",
        "\n",
        "    return np.round(np.stack(mean_boxes, axis=0)).astype('int')"
      ],
      "execution_count": 0,
      "outputs": []
    },
    {
      "metadata": {
        "id": "KpVUGTxyxEKz",
        "colab_type": "text"
      },
      "cell_type": "markdown",
      "source": [
        "### Visualizando as bounding boxes para comparar"
      ]
    },
    {
      "metadata": {
        "id": "vkqV6XvfxEKz",
        "colab_type": "code",
        "colab": {}
      },
      "cell_type": "code",
      "source": [
        "final_cls_probs = cls_map_prob * obj_map_prob\n",
        "\n",
        "all_boxes = get_boxes(final_cls_probs, p_thresh=0.9)\n",
        "\n",
        "iou_thresh = 0.5\n",
        "nms_boxes = [non_max_suppression_fast(boxes, iou_thresh) for boxes in all_boxes]\n",
        "\n",
        "mean_nms_boxes = [mean_non_max_suppression_fast(boxes, iou_thresh) for boxes in all_boxes]"
      ],
      "execution_count": 0,
      "outputs": []
    },
    {
      "metadata": {
        "id": "X7NWC4t3xEK2",
        "colab_type": "code",
        "colab": {}
      },
      "cell_type": "code",
      "source": [
        "img = x.numpy().copy()\n",
        "img = np.dstack((img, img, img))\n",
        "\n",
        "fig, axs = plt.subplots(1, 2, figsize=(20, 10))\n",
        "axs[0].imshow(img)\n",
        "axs[1].imshow(img)\n",
        "\n",
        "color_list = plt.cm.gist_rainbow(np.linspace(0, 1, 10))\n",
        "\n",
        "# Todas as bounding boxes\n",
        "for C in range(10):\n",
        "    color = color_list[C]\n",
        "    cls_boxes = all_boxes[C]\n",
        "    for box in cls_boxes:\n",
        "        h = box[3] - box[1]\n",
        "        w = box[2] - box[0]\n",
        "        patch = axs[0].add_patch(patches.Rectangle(box[:2], w, h, fill=False, edgecolor=color, lw=2))\n",
        "        axs[0].set_title('All bboxes')\n",
        "\n",
        "\n",
        "# Bboxes após NMS\n",
        "\n",
        "for C in range(10):\n",
        "    color = color_list[C]\n",
        "    cls_boxes = nms_boxes[C]\n",
        "    for box in cls_boxes:\n",
        "        h = box[3] - box[1]\n",
        "        w = box[2] - box[0]\n",
        "        patch = axs[1].add_patch(patches.Rectangle(box[:2], w, h, fill=False, edgecolor=color, lw=2))\n",
        "        axs[1].set_title('Bboxes after NMS (colored) and Mean NMS (white)')\n",
        "\n",
        "        \n",
        "\n",
        "# Bboxes após Mean NMS\n",
        "for C in range(10):\n",
        "    color = color_list[C]\n",
        "    cls_boxes = mean_nms_boxes[C]\n",
        "    for box in cls_boxes:\n",
        "        h = box[3] - box[1]\n",
        "        w = box[2] - box[0]\n",
        "        patch = axs[1].add_patch(patches.Rectangle(box[:2], w, h, fill=False, edgecolor='white', lw=2))\n"
      ],
      "execution_count": 0,
      "outputs": []
    },
    {
      "metadata": {
        "id": "qUtsHWIgxEK4",
        "colab_type": "code",
        "colab": {}
      },
      "cell_type": "code",
      "source": [
        ""
      ],
      "execution_count": 0,
      "outputs": []
    }
  ]
}