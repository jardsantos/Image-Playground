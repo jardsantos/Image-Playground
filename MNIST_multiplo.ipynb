{
  "nbformat": 4,
  "nbformat_minor": 0,
  "metadata": {
    "colab": {
      "name": "jardel- MNIST_multiplo.ipynb",
      "version": "0.3.2",
      "provenance": [],
      "collapsed_sections": [
        "7tCMAKG1J_lw"
      ]
    },
    "kernelspec": {
      "name": "python3",
      "display_name": "Python 3"
    },
    "accelerator": "GPU"
  },
  "cells": [
    {
      "metadata": {
        "id": "7tCMAKG1J_lw",
        "colab_type": "text"
      },
      "cell_type": "markdown",
      "source": [
        "# Setup"
      ]
    },
    {
      "metadata": {
        "id": "ZBGlHyiZGMGj",
        "colab_type": "code",
        "colab": {}
      },
      "cell_type": "code",
      "source": [
        "REMOTE_COLAB = True  # wether or not you are running this on remote colab"
      ],
      "execution_count": 0,
      "outputs": []
    },
    {
      "metadata": {
        "id": "hMOIB1wr4Z2J",
        "colab_type": "code",
        "colab": {
          "base_uri": "https://localhost:8080/",
          "height": 496
        },
        "outputId": "112a6204-80cb-4090-ba39-6ee320b666db"
      },
      "cell_type": "code",
      "source": [
        "if REMOTE_COLAB is True:\n",
        "    # Instalação de bibliotecas e datasets necessários no colab remoto\n",
        "    print(\"Verificando instalação do torch e bibliotecas extras necessárias...\")\n",
        "    from os import path\n",
        "    from wheel.pep425tags import get_abbr_impl, get_impl_ver, get_abi_tag\n",
        "    platform = '{}{}-{}'.format(get_abbr_impl(), get_impl_ver(), get_abi_tag())\n",
        "\n",
        "    accelerator = 'cu80' if path.exists('/opt/bin/nvidia-smi') else 'cpu'\n",
        "    \n",
        "    !pip3 install http://download.pytorch.org/whl/{accelerator}/torch-0.4.1-{platform}-linux_x86_64.whl torchvision\n",
        "    \n",
        "    # PIL workaround \n",
        "    from PIL import Image\n",
        "    def register_extension(id, extension): Image.EXTENSION[extension.lower()] = id.upper()\n",
        "    Image.register_extension = register_extension\n",
        "    def register_extensions(id, extensions): \n",
        "        for extension in extensions: register_extension(id, extension)\n",
        "    Image.register_extensions = register_extensions\n",
        "    \n",
        "    #print(\"AGORA REINICIE O KERNEL ANTES DE CONTINUAR!\")\n",
        "    !nvidia-smi\n",
        "        \n",
        "print(\"\\nChecando GPU...\")\n",
        "# Check de GPU, caso não apareça uma GPU ou memória livre, tente utilizar outra máquina do colab\n",
        "import torch   \n",
        "print(\"Dispositivo cuda disponível? \", end='')\n",
        "if torch.cuda.is_available() is True:\n",
        "    device = torch.device(\"cuda:0\")\n",
        "    print(\"sim: \" + str(device))\n",
        "    from torch.cuda import get_device_name\n",
        "    print(\"GPU:\" + str(get_device_name(0))) \n",
        "else:\n",
        "    device = torch.device(\"cpu\")\n",
        "    print(\"não. Usando CPU.\")\n",
        "    "
      ],
      "execution_count": 2,
      "outputs": [
        {
          "output_type": "stream",
          "text": [
            "Verificando instalação do torch e bibliotecas extras necessárias...\n",
            "Requirement already satisfied: torch==0.4.1 from http://download.pytorch.org/whl/cu80/torch-0.4.1-cp36-cp36m-linux_x86_64.whl in /usr/local/lib/python3.6/dist-packages (0.4.1)\n",
            "Requirement already satisfied: torchvision in /usr/local/lib/python3.6/dist-packages (0.2.1)\n",
            "Requirement already satisfied: pillow>=4.1.1 in /usr/local/lib/python3.6/dist-packages (from torchvision) (5.3.0)\n",
            "Requirement already satisfied: numpy in /usr/local/lib/python3.6/dist-packages (from torchvision) (1.14.6)\n",
            "Requirement already satisfied: six in /usr/local/lib/python3.6/dist-packages (from torchvision) (1.11.0)\n",
            "Tue Oct 16 12:55:58 2018       \n",
            "+-----------------------------------------------------------------------------+\n",
            "| NVIDIA-SMI 396.44                 Driver Version: 396.44                    |\n",
            "|-------------------------------+----------------------+----------------------+\n",
            "| GPU  Name        Persistence-M| Bus-Id        Disp.A | Volatile Uncorr. ECC |\n",
            "| Fan  Temp  Perf  Pwr:Usage/Cap|         Memory-Usage | GPU-Util  Compute M. |\n",
            "|===============================+======================+======================|\n",
            "|   0  Tesla K80           Off  | 00000000:00:04.0 Off |                    0 |\n",
            "| N/A   30C    P8    25W / 149W |      0MiB / 11441MiB |      0%      Default |\n",
            "+-------------------------------+----------------------+----------------------+\n",
            "                                                                               \n",
            "+-----------------------------------------------------------------------------+\n",
            "| Processes:                                                       GPU Memory |\n",
            "|  GPU       PID   Type   Process name                             Usage      |\n",
            "|=============================================================================|\n",
            "|  No running processes found                                                 |\n",
            "+-----------------------------------------------------------------------------+\n",
            "\n",
            "Checando GPU...\n",
            "Dispositivo cuda disponível? sim: cuda:0\n",
            "GPU:Tesla K80\n"
          ],
          "name": "stdout"
        }
      ]
    },
    {
      "metadata": {
        "id": "5GY4cC87OyoJ",
        "colab_type": "code",
        "colab": {}
      },
      "cell_type": "code",
      "source": [
        "!wget -nc -q https://raw.githubusercontent.com/robertoalotufo/files/master/lib/pytorch_trainer_v2.py -Plib/"
      ],
      "execution_count": 0,
      "outputs": []
    },
    {
      "metadata": {
        "id": "GPHmKISId3nm",
        "colab_type": "code",
        "colab": {
          "base_uri": "https://localhost:8080/",
          "height": 85
        },
        "outputId": "6fe7f48c-f43b-40ea-990d-bda7f6617138"
      },
      "cell_type": "code",
      "source": [
        "print(\"Importando bibliotecas...\")\n",
        "# Standard libs\n",
        "import time\n",
        "import os\n",
        "import copy\n",
        "import pickle\n",
        "from math import sqrt, pow\n",
        "import traceback\n",
        "from random import random\n",
        "from collections import OrderedDict\n",
        "\n",
        "# 3rd party libs\n",
        "from PIL import Image\n",
        "import glob\n",
        "import matplotlib.pyplot as plt\n",
        "import numpy as np\n",
        "import cv2 as cv\n",
        "import torch\n",
        "import torch.nn as nn\n",
        "import torch.nn.functional as F\n",
        "import torch.optim as optim\n",
        "from torch.optim import lr_scheduler\n",
        "import torchvision\n",
        "from torchvision import datasets, models, transforms\n",
        "from torchvision.datasets import MNIST\n",
        "from torch.utils.data import DataLoader\n",
        "from torch.utils.data import Dataset\n",
        "from torchvision import transforms\n",
        "\n",
        "\n",
        "print(\"Versão do PyTorch: \" + str(torch.__version__))\n",
        "print(\"Versão do OpenCV: \" + str(cv.__version__))\n",
        "\n",
        "\n",
        "plt.ion()   # interactive mode\n",
        "\n",
        "print(\"Pronto!\")"
      ],
      "execution_count": 4,
      "outputs": [
        {
          "output_type": "stream",
          "text": [
            "Importando bibliotecas...\n",
            "Versão do PyTorch: 0.4.1\n",
            "Versão do OpenCV: 3.4.3\n",
            "Pronto!\n"
          ],
          "name": "stdout"
        }
      ]
    },
    {
      "metadata": {
        "id": "LnunYEfVdWRJ",
        "colab_type": "code",
        "colab": {}
      },
      "cell_type": "code",
      "source": [
        "from lib import pytorch_trainer_v2 as ptt"
      ],
      "execution_count": 0,
      "outputs": []
    },
    {
      "metadata": {
        "id": "bK88WpScKHbf",
        "colab_type": "text"
      },
      "cell_type": "markdown",
      "source": [
        "# Exercício de identificação de dígitos em uma imagem com múltiplos dígitos\n"
      ]
    },
    {
      "metadata": {
        "id": "Zl_c_9NJKdza",
        "colab_type": "text"
      },
      "cell_type": "markdown",
      "source": [
        "## 1. Criar o dataset e dataloader a partir do MNIST\n",
        "\n",
        "### Carrega o MNIST (60000 samples de treino e 10000 de teste)\n"
      ]
    },
    {
      "metadata": {
        "id": "xXIHxdboBf4H",
        "colab_type": "code",
        "colab": {
          "base_uri": "https://localhost:8080/",
          "height": 102
        },
        "outputId": "263da5ea-f770-42e5-e6f3-98c441ab33da"
      },
      "cell_type": "code",
      "source": [
        "dataset_dir = '/data/datasets/MNIST/'\n",
        "\n",
        "# Transformara os dados em tensores no intervalo [0.0, 1.0] (Os dados serão normalizados)\n",
        "data_transform = transforms.ToTensor()\n",
        "\n",
        "# carrega o conjunto de treinamento e de teste\n",
        "datasets = dict(train=MNIST(dataset_dir, train=True,  transform=data_transform, download=True),\n",
        "                val  =MNIST(dataset_dir, train=False, transform=data_transform, download=True))\n",
        "\n",
        "print('Amostras para treinamento:', len(datasets['train']))\n",
        "print('Amostras para validação:', len(datasets['val']))\n",
        "print(type(datasets['train'].train_data))\n",
        "print(datasets['train'].train_data.size())\n",
        "print(datasets['train'].train_data.min(), datasets['train'].train_data.max())"
      ],
      "execution_count": 6,
      "outputs": [
        {
          "output_type": "stream",
          "text": [
            "Amostras para treinamento: 60000\n",
            "Amostras para validação: 10000\n",
            "<class 'torch.Tensor'>\n",
            "torch.Size([60000, 28, 28])\n",
            "tensor(0, dtype=torch.uint8) tensor(255, dtype=torch.uint8)\n"
          ],
          "name": "stdout"
        }
      ]
    },
    {
      "metadata": {
        "id": "TpWt0Nc1eRSN",
        "colab_type": "text"
      },
      "cell_type": "markdown",
      "source": [
        "### Adaptar o dataset para que o target, que originalmente é apenas um long que indica a classe do dígito, passa a ser agora um Float32 (28,28,10)"
      ]
    },
    {
      "metadata": {
        "id": "fuZmHWfLep96",
        "colab_type": "text"
      },
      "cell_type": "markdown",
      "source": [
        "#### Lógica para gaussiana considerando boundbox ímpar de tamanho 27x27\n",
        "\n",
        "O pixel central terá valor 1 enquanto o pixel da borda terá valor 0.1\n",
        "\n",
        "\n",
        "\n",
        "\n"
      ]
    },
    {
      "metadata": {
        "id": "HxUdjwvYmM_w",
        "colab_type": "code",
        "colab": {
          "base_uri": "https://localhost:8080/",
          "height": 362
        },
        "outputId": "9ffdffb2-5a85-46b2-ecdf-227cef85994a"
      },
      "cell_type": "code",
      "source": [
        "target = np.zeros((27,27))\n",
        "i,j = np.indices((27,27))\n",
        "target = ((27 - abs(13-i)*1.42)*(27 - abs(13-j)*1.42)) / (27*27)\n",
        "\n",
        "plt.imshow(target, cmap='gray')\n",
        "plt.title('Exemplo gaussiana para um número')\n",
        "plt.grid(False)\n",
        "plt.show()"
      ],
      "execution_count": 7,
      "outputs": [
        {
          "output_type": "display_data",
          "data": {
            "image/png": "[encoded data removed]",
            "text/plain": [
              "<matplotlib.figure.Figure at 0x7f59200ee828>"
            ]
          },
          "metadata": {
            "tags": []
          }
        }
      ]
    },
    {
      "metadata": {
        "id": "JExNUiVTf2Hs",
        "colab_type": "text"
      },
      "cell_type": "markdown",
      "source": [
        "#### Criação do dataset com target personalizado e dataloader"
      ]
    },
    {
      "metadata": {
        "id": "buWOoekdZbUD",
        "colab_type": "code",
        "colab": {}
      },
      "cell_type": "code",
      "source": [
        "class ChangeTarget(Dataset):\n",
        "    def __init__(self, dataset,train=True):\n",
        "      \n",
        "        self.dataset = dataset\n",
        "        self.train = train\n",
        "        \n",
        "        perc = np.zeros((28,28))\n",
        "        i,j = np.indices((27,27))\n",
        "        perc[:27,:27] = ((27 - abs(13-i)*1.42)*(27 - abs(13-j)*1.42)) / (27*27)\n",
        "        perc[27,:] = 0.1\n",
        "        perc[:,27] = 0.1\n",
        "        \n",
        "        self.num = perc\n",
        "        self.other = (1-perc)/9\n",
        "            \n",
        "    def __len__(self):\n",
        "        return len(self.dataset)\n",
        "    \n",
        "    def __getitem__(self, index):\n",
        "      \n",
        "      \n",
        "        label = self.dataset[index][1].item()\n",
        "            \n",
        "        target = np.zeros((10,28,28))\n",
        "        \n",
        "        target[:] = self.other\n",
        "        target[label] = self.num\n",
        "        \n",
        "#         for i in range(27): # percorrer pixel a pixel do boundbox\n",
        "#             for j in range(27): # a formula a seguir considera uma simetria de deslocamento\n",
        "#                 perc = ((27 - abs(13-i)*1.42)*(27 - abs(13-j)*1.42)) / (27*27)\n",
        "#                 target[label,i,j]= perc\n",
        "#                 target[:label,i,j] = (1 - perc)/9 # canais restantes\n",
        "#                 target[label+1:,i,j] = (1 - perc)/9\n",
        "#         target[:,27,:] = 0.1\n",
        "#         target[:,:,27] = 0.1\n",
        "        \n",
        "#         if self.train:\n",
        "#             return self.dataset.train_data[index:index+1].float(), torch.tensor(target).float()\n",
        "          \n",
        "        return self.dataset[index][0], torch.tensor(target).float()"
      ],
      "execution_count": 0,
      "outputs": []
    },
    {
      "metadata": {
        "id": "p1L3Z1RPjGx2",
        "colab_type": "code",
        "colab": {}
      },
      "cell_type": "code",
      "source": [
        "train_dataset = ChangeTarget(datasets['train'])\n",
        "val_dataset = ChangeTarget(datasets['val'], train=False)\n",
        "\n",
        "train_dataloader = DataLoader(train_dataset, \n",
        "                         batch_size=32,\n",
        "                         shuffle=False)\n",
        "val_dataloader = DataLoader(val_dataset, \n",
        "                         batch_size=32,\n",
        "                         shuffle=False)"
      ],
      "execution_count": 0,
      "outputs": []
    },
    {
      "metadata": {
        "id": "qMVdPiVqLjIx",
        "colab_type": "text"
      },
      "cell_type": "markdown",
      "source": [
        "### Visualização de algumas amostras do dataset, via dataloader, usando o grid para visualizar os 10 canais de uma amostra."
      ]
    },
    {
      "metadata": {
        "id": "DXPWMXADjvS9",
        "colab_type": "code",
        "colab": {}
      },
      "cell_type": "code",
      "source": [
        "im, target = next(iter(train_dataloader))"
      ],
      "execution_count": 0,
      "outputs": []
    },
    {
      "metadata": {
        "id": "nFLQzrRB2u7O",
        "colab_type": "text"
      },
      "cell_type": "markdown",
      "source": [
        "- ###  Exemplo 1"
      ]
    },
    {
      "metadata": {
        "id": "ta61gAdhbeVZ",
        "colab_type": "code",
        "colab": {
          "base_uri": "https://localhost:8080/",
          "height": 362
        },
        "outputId": "b3cbf467-1336-4e0b-dbd5-cd9fbebeeeee"
      },
      "cell_type": "code",
      "source": [
        "plt.imshow(im[0,0], cmap='gray')\n",
        "plt.title('Exemplo imagem')\n",
        "plt.grid(False)\n",
        "plt.show()"
      ],
      "execution_count": 11,
      "outputs": [
        {
          "output_type": "display_data",
          "data": {
            "image/png": "[encoded data removed]",
            "text/plain": [
              "<matplotlib.figure.Figure at 0x7f59200ee160>"
            ]
          },
          "metadata": {
            "tags": []
          }
        }
      ]
    },
    {
      "metadata": {
        "id": "BXghTPGJmmK5",
        "colab_type": "code",
        "colab": {
          "base_uri": "https://localhost:8080/",
          "height": 310
        },
        "outputId": "1cc458a2-7013-475d-b9bf-8dbf75da5ff3"
      },
      "cell_type": "code",
      "source": [
        "plt.figure(figsize=(12,12))\n",
        "\n",
        "for i in range(10):\n",
        "  plt.subplot(5,5,1+i)\n",
        "  plt.imshow(target[0,i,:,:], cmap='gray')\n",
        "  plt.axis('off')\n",
        "  plt.title('Canal '+str(i))\n",
        "  plt.grid(False)\n",
        "  \n",
        "plt.show()"
      ],
      "execution_count": 12,
      "outputs": [
        {
          "output_type": "display_data",
          "data": {
            "image/png": "[encoded data removed]",
            "text/plain": [
              "<matplotlib.figure.Figure at 0x7f5907932f28>"
            ]
          },
          "metadata": {
            "tags": []
          }
        }
      ]
    },
    {
      "metadata": {
        "id": "xA-h-eJj27Cx",
        "colab_type": "text"
      },
      "cell_type": "markdown",
      "source": [
        "- ### Exemplo 2"
      ]
    },
    {
      "metadata": {
        "id": "PvOAj7-j29Kt",
        "colab_type": "code",
        "colab": {
          "base_uri": "https://localhost:8080/",
          "height": 362
        },
        "outputId": "a8780d24-e558-4276-c938-61060c96fbdc"
      },
      "cell_type": "code",
      "source": [
        "plt.imshow(im[1,0], cmap='gray')\n",
        "plt.title('Exemplo imagem')\n",
        "plt.grid(False)\n",
        "plt.show()"
      ],
      "execution_count": 13,
      "outputs": [
        {
          "output_type": "display_data",
          "data": {
            "image/png": "[encoded data removed]",
            "text/plain": [
              "<matplotlib.figure.Figure at 0x7f59200b0ef0>"
            ]
          },
          "metadata": {
            "tags": []
          }
        }
      ]
    },
    {
      "metadata": {
        "id": "XFwsJMwn3AMn",
        "colab_type": "code",
        "colab": {
          "base_uri": "https://localhost:8080/",
          "height": 310
        },
        "outputId": "8ab1305a-d708-4474-be5d-be36022b6d22"
      },
      "cell_type": "code",
      "source": [
        "plt.figure(figsize=(12,12))\n",
        "\n",
        "for i in range(10):\n",
        "  plt.subplot(5,5,1+i)\n",
        "  plt.imshow(target[1,i,:,:], cmap='gray')\n",
        "  plt.axis('off')\n",
        "  plt.title('Canal '+str(i))\n",
        "  plt.grid(False)\n",
        "  \n",
        "plt.show()"
      ],
      "execution_count": 14,
      "outputs": [
        {
          "output_type": "display_data",
          "data": {
            "image/png": "[encoded data removed]",
            "text/plain": [
              "<matplotlib.figure.Figure at 0x7f590769c470>"
            ]
          },
          "metadata": {
            "tags": []
          }
        }
      ]
    },
    {
      "metadata": {
        "id": "CMo2e5REMIj_",
        "colab_type": "text"
      },
      "cell_type": "markdown",
      "source": [
        "## Criação do modelo totalmente convolucional\n"
      ]
    },
    {
      "metadata": {
        "id": "6ltElhEuMcO1",
        "colab_type": "code",
        "colab": {}
      },
      "cell_type": "code",
      "source": [
        "class MyModelFullyConv2(nn.Module):\n",
        "    def __init__(self):\n",
        "        super(MyModelFullyConv2, self).__init__()\n",
        "        \n",
        "        # Camadas convolucionais\n",
        "        self.conv_layer = nn.Sequential(OrderedDict([\n",
        "            \n",
        "            ('conv1', nn.Conv2d(in_channels=1, out_channels=16, kernel_size=5, padding=2)),   \n",
        "            ('relu1', nn.ReLU()),\n",
        "            \n",
        "            ('conv2', nn.Conv2d(in_channels=16, out_channels=32, kernel_size=5, padding=2)),   \n",
        "            ('relu2', nn.ReLU()),\n",
        "            \n",
        "            ('max_pool1', nn.MaxPool2d(2)),\n",
        "            \n",
        "            ('conv3', nn.Conv2d(in_channels=32, out_channels=64, kernel_size=3, padding=1)),\n",
        "            ('relu3', nn.ReLU()),\n",
        "            \n",
        "            ('max_pool2', nn.MaxPool2d(2)),\n",
        "            \n",
        "            ('conv4', nn.Conv2d(in_channels=64, out_channels=128, kernel_size=3, padding=1)),\n",
        "            ('relu4', nn.ReLU()),\n",
        "            \n",
        "            ('conv_t1', nn.ConvTranspose2d(in_channels=128, out_channels=128, kernel_size=2, stride=2)),\n",
        "            ('relu_t1', nn.ReLU()),\n",
        "            \n",
        "            ('conv5', nn.Conv2d(in_channels=128, out_channels=64, kernel_size=3, padding=1)),\n",
        "            ('relu5', nn.ReLU()),\n",
        "            \n",
        "            ('conv_t2', nn.ConvTranspose2d(in_channels=64, out_channels=64, kernel_size=2, stride=2)),\n",
        "            ('relu_t2', nn.ReLU()),\n",
        "            \n",
        "            ('conv6', nn.Conv2d(in_channels=64, out_channels=32, kernel_size=5, padding=2)),   \n",
        "            ('relu6', nn.ReLU()),\n",
        "            \n",
        "            ('conv7', nn.Conv2d(in_channels=32, out_channels=10, kernel_size=5, padding=2)),   \n",
        "            \n",
        "            ('softmax', nn.Softmax2d())\n",
        "            \n",
        "        ]))\n",
        "        \n",
        "    def forward(self, x):\n",
        "        x = self.conv_layer(x)        \n",
        "        return x"
      ],
      "execution_count": 0,
      "outputs": []
    },
    {
      "metadata": {
        "id": "Q-yedoJXPqZR",
        "colab_type": "text"
      },
      "cell_type": "markdown",
      "source": [
        "### Instanciar o modelo e fazer um predict de uma pequena parte do minibatch via dataloader"
      ]
    },
    {
      "metadata": {
        "id": "cW0mTQ04PEOy",
        "colab_type": "code",
        "colab": {}
      },
      "cell_type": "code",
      "source": [
        "model = MyModelFullyConv2()\n",
        "\n",
        "model = model.to(device)"
      ],
      "execution_count": 0,
      "outputs": []
    },
    {
      "metadata": {
        "id": "Z3GJPBscPE9o",
        "colab_type": "text"
      },
      "cell_type": "markdown",
      "source": [
        "## 3. Preparação para o Treino"
      ]
    },
    {
      "metadata": {
        "id": "qrY6aVHqP-D2",
        "colab_type": "code",
        "colab": {}
      },
      "cell_type": "code",
      "source": [
        "# Calcula o erro pelo MSE das probabilidades\n",
        "criterion = nn.MSELoss()\n",
        "\n",
        "# Otimizador\n",
        "optimizer = torch.optim.Adam(model.parameters())\n",
        "\n",
        "trainer = ptt.DeepNetTrainer(\n",
        "    model       = model, \n",
        "    criterion   = criterion, \n",
        "    optimizer   = optimizer,\n",
        "    # Diminui o valor de lr por um fator de 0.1 a cada 7 epocas\n",
        "    lr_scheduler= lr_scheduler.StepLR(optimizer, step_size=7, gamma=0.1),\n",
        "    callbacks   = [\n",
        "                   ptt.PrintCallback(),\n",
        "                   ptt.ModelCheckpoint('models/MNIST_multiplo', reset=True, verbose=1)\n",
        "                  ],\n",
        "    devname     = device\n",
        ")"
      ],
      "execution_count": 0,
      "outputs": []
    },
    {
      "metadata": {
        "id": "8dp3NBmTQcfG",
        "colab_type": "text"
      },
      "cell_type": "markdown",
      "source": [
        "### Treinamento"
      ]
    },
    {
      "metadata": {
        "id": "7_2f5p9ZQbR3",
        "colab_type": "code",
        "colab": {
          "base_uri": "https://localhost:8080/",
          "height": 204
        },
        "outputId": "7e708e07-f53f-4f20-ad27-56b54f80fd78"
      },
      "cell_type": "code",
      "source": [
        "retrain = True\n",
        "if retrain:\n",
        "    trainer.fit_loader(n_epochs=15, train_data=train_dataloader, valid_data=val_dataloader)\n",
        "else:\n",
        "    trainer.load_state('models/MNIST_multiplo')"
      ],
      "execution_count": 64,
      "outputs": [
        {
          "output_type": "stream",
          "text": [
            "Start training for 15 epochs\n",
            "  7:  66.4s   T: 0.00001 *   V: 0.00001    \n",
            "  8:  65.4s   T: 0.00000 *   V: 0.00001 *  \n",
            "  9:  65.1s   T: 0.00000 *   V: 0.00001 *  \n",
            " 10:  65.4s   T: 0.00000 *   V: 0.00001 *  \n",
            " 11:  65.4s   T: 0.00000 *   V: 0.00001 *  \n",
            " 12:  65.4s   T: 0.00000 *   V: 0.00001 *  \n",
            " 13:  65.4s   T: 0.00000 *   V: 0.00001 *  \n",
            " 14:  65.3s   T: 0.00000 *   V: 0.00001 *  \n",
            "Stop training at epoch: 14/21\n",
            "Best model was saved at epoch 14 with loss 0.00001: models/MNIST_multiplo\n"
          ],
          "name": "stdout"
        }
      ]
    },
    {
      "metadata": {
        "id": "RDJZwUvI7EQv",
        "colab_type": "text"
      },
      "cell_type": "markdown",
      "source": [
        "## Predict na imagem com 1 digito"
      ]
    },
    {
      "metadata": {
        "id": "zfFWNhlU7H3T",
        "colab_type": "code",
        "colab": {}
      },
      "cell_type": "code",
      "source": [
        "im, target = next(iter(val_dataloader))"
      ],
      "execution_count": 0,
      "outputs": []
    },
    {
      "metadata": {
        "id": "63m_MHvl7ZZD",
        "colab_type": "code",
        "colab": {}
      },
      "cell_type": "code",
      "source": [
        "pred = trainer.predict(im[1:2])"
      ],
      "execution_count": 0,
      "outputs": []
    },
    {
      "metadata": {
        "id": "gP8w0vUk7yuV",
        "colab_type": "code",
        "colab": {
          "base_uri": "https://localhost:8080/",
          "height": 362
        },
        "outputId": "b85ac0e8-4f20-4ea4-da8a-9fcb15c8dfd3"
      },
      "cell_type": "code",
      "source": [
        "plt.imshow(im[1,0], cmap='gray')\n",
        "plt.title('Exemplo imagem')\n",
        "plt.grid(False)\n",
        "plt.show()"
      ],
      "execution_count": 67,
      "outputs": [
        {
          "output_type": "display_data",
          "data": {
            "image/png": "[encoded data removed]",
            "text/plain": [
              "<matplotlib.figure.Figure at 0x7f59059c16a0>"
            ]
          },
          "metadata": {
            "tags": []
          }
        }
      ]
    },
    {
      "metadata": {
        "id": "9MlvpBw78BnF",
        "colab_type": "code",
        "colab": {
          "base_uri": "https://localhost:8080/",
          "height": 310
        },
        "outputId": "641e9207-a6cb-41b6-feea-d40895eac169"
      },
      "cell_type": "code",
      "source": [
        "plt.figure(figsize=(12,12))\n",
        "\n",
        "for i in range(10):\n",
        "  plt.subplot(5,5,1+i)\n",
        "  plt.imshow(pred[0,i,:,:], cmap='gray')\n",
        "  plt.axis('off')\n",
        "  plt.title('Canal '+str(i))\n",
        "  plt.grid(False)\n",
        "  \n",
        "plt.show()"
      ],
      "execution_count": 68,
      "outputs": [
        {
          "output_type": "display_data",
          "data": {
            "image/png": "[encoded data removed]",
            "text/plain": [
              "<matplotlib.figure.Figure at 0x7f59073c4358>"
            ]
          },
          "metadata": {
            "tags": []
          }
        }
      ]
    },
    {
      "metadata": {
        "id": "0mOsO-x7HOuO",
        "colab_type": "code",
        "colab": {
          "base_uri": "https://localhost:8080/",
          "height": 187
        },
        "outputId": "6272237a-0f4a-482d-8c6f-ef9b09ca7a6f"
      },
      "cell_type": "code",
      "source": [
        "# maximo de cada canal\n",
        "for i in range(10):\n",
        "  print('Máximo canal %d: %.2f' % (i,pred[0][i].max()))"
      ],
      "execution_count": 69,
      "outputs": [
        {
          "output_type": "stream",
          "text": [
            "Máximo canal 0: 0.10\n",
            "Máximo canal 1: 0.11\n",
            "Máximo canal 2: 0.95\n",
            "Máximo canal 3: 0.11\n",
            "Máximo canal 4: 0.10\n",
            "Máximo canal 5: 0.11\n",
            "Máximo canal 6: 0.11\n",
            "Máximo canal 7: 0.11\n",
            "Máximo canal 8: 0.11\n",
            "Máximo canal 9: 0.10\n"
          ],
          "name": "stdout"
        }
      ]
    },
    {
      "metadata": {
        "id": "-Bp9yz0sQwH9",
        "colab_type": "text"
      },
      "cell_type": "markdown",
      "source": [
        "## Predict na imagem ampliada, com vários dígitos"
      ]
    },
    {
      "metadata": {
        "id": "pRIhLacoLYau",
        "colab_type": "text"
      },
      "cell_type": "markdown",
      "source": [
        "### Exemplo de programa para gerar a imagem de teste"
      ]
    },
    {
      "metadata": {
        "id": "gQhKJvStK7BM",
        "colab_type": "code",
        "colab": {}
      },
      "cell_type": "code",
      "source": [
        "class MultiMNIST():\n",
        "    '''\n",
        "    Gera imagens de qualquer tamanho com n 28x28 numeros mnist aleatoriamente colocados sem overlap \n",
        "    ''' \n",
        "    def __init__(self, root='.', mode=\"train\", donwload=True, transform=None, image_size=(200, 200), number_size=(28, 28), mnist_batch=10):\n",
        "        '''\n",
        "        Nomes dos argumentos self explanatory\n",
        "        '''\n",
        "        self.image_size = image_size  # tamanho da imagem de saida\n",
        "        self.number_size = number_size  # tamanho do mnist\n",
        "        self.anchor_space = np.array(image_size) - np.array(number_size)  # espaço onde podem existir ancoras (top-left)\n",
        "        self.mnist_batch = mnist_batch  # quantidade de numeros por sample\n",
        "        \n",
        "        # Inicializar MNIST para pegar imagens\n",
        "        mnist_transforms = {'train': transforms.ToTensor(), 'validation': transforms.ToTensor()}\n",
        "        mnist = MNIST(root=root, train=mode=='train', transform=mnist_transforms[mode], download=True)\n",
        "        self.mnist_loader = DataLoader(mnist, batch_size=mnist_batch, shuffle=True, num_workers=0)\n",
        "        self.mnist_size = len(mnist)\n",
        "        self.iter = iter(self.mnist_loader)\n",
        "        \n",
        "    def non_overlaping_anchor_points(self):\n",
        "        '''\n",
        "        Gera pontos de ancora que não se cruzam para colocar numeros \n",
        "        '''\n",
        "        npoints = self.mnist_batch\n",
        "        \n",
        "        anchor_points = (np.random.rand(npoints, 2)*self.anchor_space).astype(np.int)  # pontos de ancora (top-left) aleatorios dentro do anchor_space\n",
        "        minimum_distance = int(sqrt(pow(self.number_size[0], 2) + pow(self.number_size[1], 2)))  # distancia minima entre ancoras é diagonal do retângulo\n",
        "        \n",
        "        # Enquanto o numero de retangulos com overlap for maior que npoints continue tentando\n",
        "        i = 1\n",
        "        while True:\n",
        "            noverlap = -npoints\n",
        "            for p1 in anchor_points:\n",
        "                for p2 in anchor_points:\n",
        "                    dist = np.linalg.norm(p1-p2)\n",
        "                    if dist < minimum_distance:  # hypotenuse of number rectangle is minimum distance\n",
        "                        noverlap += 1\n",
        "            if noverlap < 1:\n",
        "                return anchor_points\n",
        "            else:\n",
        "                anchor_points = (np.random.rand(npoints, 2)*self.anchor_space).astype(np.int)\n",
        "            if i % 10000 == 0:\n",
        "                print(\"WARNING: {} iterations trying to find random number placement.\".format(i))\n",
        "            i += 1\n",
        "    \n",
        "    def make_sample(self):\n",
        "        '''\n",
        "        Faz uma sample com varios numeros do mnist separados\n",
        "        '''\n",
        "        imgs, _ = next(self.iter)\n",
        "        anchor_points = self.non_overlaping_anchor_points()\n",
        "                    \n",
        "        sample = np.zeros(self.image_size)\n",
        "        \n",
        "        for point, img in zip(anchor_points, imgs):\n",
        "            sample[point[0]:point[0]+28, point[1]:point[1]+28] = img.squeeze().numpy()\n",
        "            \n",
        "        return sample\n",
        "    "
      ],
      "execution_count": 0,
      "outputs": []
    },
    {
      "metadata": {
        "id": "FZkPZgS2LLL0",
        "colab_type": "code",
        "colab": {}
      },
      "cell_type": "code",
      "source": [
        "m_mnist = MultiMNIST(image_size=(200,200), mnist_batch=10)"
      ],
      "execution_count": 0,
      "outputs": []
    },
    {
      "metadata": {
        "id": "zhVTCoe7Z-gn",
        "colab_type": "code",
        "colab": {}
      },
      "cell_type": "code",
      "source": [
        "im = torch.tensor(m_mnist.make_sample()).float()"
      ],
      "execution_count": 0,
      "outputs": []
    },
    {
      "metadata": {
        "id": "IK-zvmF0aiAq",
        "colab_type": "code",
        "colab": {}
      },
      "cell_type": "code",
      "source": [
        "im = im.reshape(1,1,im.shape[0],im.shape[1])"
      ],
      "execution_count": 0,
      "outputs": []
    },
    {
      "metadata": {
        "id": "L0nTWagua0Ms",
        "colab_type": "code",
        "colab": {
          "base_uri": "https://localhost:8080/",
          "height": 350
        },
        "outputId": "7ca89731-d930-411e-fe36-bb4f9138219c"
      },
      "cell_type": "code",
      "source": [
        "plt.imshow(im[0,0], cmap=\"gray\")\n",
        "plt.grid('off')\n",
        "plt.show()"
      ],
      "execution_count": 92,
      "outputs": [
        {
          "output_type": "display_data",
          "data": {
            "image/png": "[encoded data removed]",
            "text/plain": [
              "<matplotlib.figure.Figure at 0x7f590523bac8>"
            ]
          },
          "metadata": {
            "tags": []
          }
        }
      ]
    },
    {
      "metadata": {
        "id": "h0B6lQJ6aFSq",
        "colab_type": "code",
        "colab": {}
      },
      "cell_type": "code",
      "source": [
        "pred = trainer.predict(im)"
      ],
      "execution_count": 0,
      "outputs": []
    },
    {
      "metadata": {
        "id": "IKUcrd7XQ--B",
        "colab_type": "text"
      },
      "cell_type": "markdown",
      "source": [
        "## Mapas de calor (máximo probabilidades) e de classes"
      ]
    },
    {
      "metadata": {
        "id": "yTgoX5qE_y_n",
        "colab_type": "code",
        "colab": {}
      },
      "cell_type": "code",
      "source": [
        "heatmap, _ = pred[0].max(dim=0)"
      ],
      "execution_count": 0,
      "outputs": []
    },
    {
      "metadata": {
        "id": "0brswwl0SyGs",
        "colab_type": "code",
        "colab": {
          "base_uri": "https://localhost:8080/",
          "height": 350
        },
        "outputId": "f92f674e-5f3d-440c-c5d1-5b902ed1623b"
      },
      "cell_type": "code",
      "source": [
        "plt.imshow(heatmap,plt.cm.hot)\n",
        "plt.grid('off')\n",
        "plt.colorbar()\n",
        "plt.show()"
      ],
      "execution_count": 95,
      "outputs": [
        {
          "output_type": "display_data",
          "data": {
            "image/png": "[encoded data removed]",
            "text/plain": [
              "<matplotlib.figure.Figure at 0x7f59075f15f8>"
            ]
          },
          "metadata": {
            "tags": []
          }
        }
      ]
    },
    {
      "metadata": {
        "id": "2t7ptDjNSRba",
        "colab_type": "text"
      },
      "cell_type": "markdown",
      "source": [
        "### Non Maxima Supression aplicado no mapa de calor\n",
        "\n",
        "- pode-se usar a solução aproximada por morfologia\n",
        "- usar os algoritmos genéricos para qq tamanho de bounding box:\n",
        "\n",
        "  - https://www.pyimagesearch.com/2015/02/16/faster-non-maximum-suppression-python/\n",
        "  - solução no github:\n",
        "    -  Original author: Francisco Massa:\n",
        "    - https://github.com/fmassa/object-detection.torch\n",
        "    - Ported to PyTorch by Max deGroot (02/01/2017)"
      ]
    },
    {
      "metadata": {
        "id": "kmc7NoYGCFOZ",
        "colab_type": "code",
        "colab": {}
      },
      "cell_type": "code",
      "source": [
        "def get_boxes(pred,size=(27,27),threshold=0.5):\n",
        "    bbox = []\n",
        "    prob = []\n",
        "    num = []\n",
        "    x = int(size[1]/2)\n",
        "    y = int(size[0]/2)\n",
        "    \n",
        "    for i in range(pred.shape[1]):\n",
        "        for j in range(pred.shape[2]):\n",
        "            arg = np.argmax(pred[:,i,j])\n",
        "            if((pred[arg,i,j]>threshold) and (i>=y) and (j>=x)):\n",
        "              prob.append(pred[arg,i,j])\n",
        "              num.append(arg)\n",
        "              bbox.append([j-x,i-y,j+x,i+y])\n",
        "    bbox = np.array(bbox)\n",
        "    return bbox, num, prob"
      ],
      "execution_count": 0,
      "outputs": []
    },
    {
      "metadata": {
        "id": "gAO5ySdlPjOC",
        "colab_type": "code",
        "colab": {}
      },
      "cell_type": "code",
      "source": [
        "def non_max_suppression(bbox, num, prob, threshold=0):\n",
        "    pick_bbox = []\n",
        "    pick_num = []\n",
        "    while len(bbox)>0:\n",
        "\n",
        "        x1 = bbox[:,0]\n",
        "        y1 = bbox[:,1]\n",
        "        x2 = bbox[:,2]\n",
        "        y2 = bbox[:,3]\n",
        "\n",
        "\n",
        "        idx = np.argmax(prob)\n",
        "        pick_bbox.append(bbox[idx])\n",
        "        pick_num.append(num[idx])\n",
        "\n",
        "        xx1 = np.maximum(x1[idx], x1)\n",
        "        yy1 = np.maximum(y1[idx], y1)\n",
        "        xx2 = np.minimum(x2[idx], x2)\n",
        "        yy2 = np.minimum(y2[idx], y2)\n",
        "\n",
        "        w = np.maximum(0, xx2 - xx1 + 1)\n",
        "        h = np.maximum(0, yy2 - yy1 + 1)\n",
        "\n",
        "        area = w*h\n",
        "        overlap = area/area[idx]\n",
        "        bbox = np.delete(bbox,np.where(overlap > threshold)[0],axis=0)\n",
        "        num = np.delete(num, np.where(overlap > threshold)[0])\n",
        "        prob = np.delete(prob, np.where(overlap > threshold)[0])\n",
        "    \n",
        "    return pick_bbox, pick_num\n",
        "    \n",
        "  "
      ],
      "execution_count": 0,
      "outputs": []
    },
    {
      "metadata": {
        "id": "O3ldsQBsa7gF",
        "colab_type": "code",
        "colab": {}
      },
      "cell_type": "code",
      "source": [
        "bbox, num, prob = get_boxes(pred[0],threshold=0.94) # threshold de 0.8 para garantir os boundboxes corretos\n",
        "bbox, num = non_max_suppression(bbox,num,prob)"
      ],
      "execution_count": 0,
      "outputs": []
    },
    {
      "metadata": {
        "id": "LLHILGabCEjx",
        "colab_type": "code",
        "colab": {
          "base_uri": "https://localhost:8080/",
          "height": 34
        },
        "outputId": "ed3cb711-fde5-4998-c814-a07493c62b51"
      },
      "cell_type": "code",
      "source": [
        "len(bbox)"
      ],
      "execution_count": 99,
      "outputs": [
        {
          "output_type": "execute_result",
          "data": {
            "text/plain": [
              "10"
            ]
          },
          "metadata": {
            "tags": []
          },
          "execution_count": 99
        }
      ]
    },
    {
      "metadata": {
        "id": "BFDeLv7bbTzV",
        "colab_type": "code",
        "colab": {
          "base_uri": "https://localhost:8080/",
          "height": 367
        },
        "outputId": "361ece04-63de-4efc-b0f1-2696e0b0754d"
      },
      "cell_type": "code",
      "source": [
        "sample = im[0,0].numpy()*255\n",
        "for i in range(len(bbox)):\n",
        "    cv.rectangle(sample, (bbox[i][0], bbox[i][1]), (bbox[i][2], bbox[i][3]), 255)\n",
        "    cv.putText(sample, str(num[i].item()), (bbox[i][0]+1, bbox[i][1]-1), cv.FONT_HERSHEY_PLAIN, 1, 255)\n",
        "\n",
        "plt.grid(False)\n",
        "plt.imshow(sample, cmap='gray')    "
      ],
      "execution_count": 100,
      "outputs": [
        {
          "output_type": "execute_result",
          "data": {
            "text/plain": [
              "<matplotlib.image.AxesImage at 0x7f59076df4e0>"
            ]
          },
          "metadata": {
            "tags": []
          },
          "execution_count": 100
        },
        {
          "output_type": "display_data",
          "data": {
            "image/png": "[encoded data removed]",
            "text/plain": [
              "<matplotlib.figure.Figure at 0x7f59073c3048>"
            ]
          },
          "metadata": {
            "tags": []
          }
        }
      ]
    },
    {
      "metadata": {
        "id": "kssOprdN13VQ",
        "colab_type": "code",
        "colab": {
          "base_uri": "https://localhost:8080/",
          "height": 34
        },
        "outputId": "c0a2bc09-7cf9-404c-ba93-beb36346322c"
      },
      "cell_type": "code",
      "source": [
        ""
      ],
      "execution_count": 84,
      "outputs": [
        {
          "output_type": "execute_result",
          "data": {
            "text/plain": [
              "1.0"
            ]
          },
          "metadata": {
            "tags": []
          },
          "execution_count": 84
        }
      ]
    },
    {
      "metadata": {
        "id": "ZjtYypAeM9TC",
        "colab_type": "code",
        "colab": {}
      },
      "cell_type": "code",
      "source": [
        ""
      ],
      "execution_count": 0,
      "outputs": []
    }
  ]
}